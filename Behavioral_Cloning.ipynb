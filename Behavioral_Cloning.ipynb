{
  "cells": [
    {
      "cell_type": "markdown",
      "id": "c5746635",
      "metadata": {},
      "source": [
        "## Imports "
      ]
    },
    {
      "cell_type": "code",
      "execution_count": 10,
      "id": "b09a0b12",
      "metadata": {
        "id": "b09a0b12"
      },
      "outputs": [
        {
          "name": "stdout",
          "output_type": "stream",
          "text": [
            "device: cuda\n",
            "root: /home/bitfra/Desktop/Francesco/rl_project/acrobatic-agents\n"
          ]
        }
      ],
      "source": [
        "import os\n",
        "import sys\n",
        "import argparse\n",
        "from tqdm import tqdm\n",
        "from os import path\n",
        "from git import Repo\n",
        "from os.path import exists\n",
        "from os import mkdir, remove, rename\n",
        "# from .autonotebook import tqdm as notebook_tqdm\n",
        "\n",
        "import math\n",
        "import numpy as np\n",
        "\n",
        "import torch\n",
        "import torch.nn as nn\n",
        "import torch.optim as optim\n",
        "from torch.optim import lr_scheduler\n",
        "torch.manual_seed(42)\n",
        "\n",
        "# set up train device\n",
        "device = torch.device('cuda' if torch.cuda.is_available() else 'cpu')\n",
        "print(\"device: {}\".format(device))\n",
        "\n",
        "# setup project root dir\n",
        "COLAB = 'google.colab' in sys.modules\n",
        "if COLAB:\n",
        "  root_dir = '/content'\n",
        "  %mkdir ./data/\n",
        "else:\n",
        "  repo = Repo(\".\", search_parent_directories=True)\n",
        "  root_dir = repo.git.rev_parse(\"--show-toplevel\")\n",
        "print(\"root: {}\".format(root_dir))\n"
      ]
    },
    {
      "cell_type": "markdown",
      "id": "d3820d87",
      "metadata": {},
      "source": [
        "## Data"
      ]
    },
    {
      "cell_type": "code",
      "execution_count": 11,
      "id": "ce03945f",
      "metadata": {
        "id": "ce03945f"
      },
      "outputs": [],
      "source": [
        "# Dataset class\n",
        "from torch.utils.data.dataset import Dataset, random_split\n",
        "\n",
        "class ExpertDataSet(Dataset):\n",
        "\n",
        "    def __init__(self, expert_observations, expert_actions):\n",
        "        self.observations = torch.from_numpy(expert_observations)\n",
        "        self.actions = self.preprocess_data(torch.from_numpy(expert_actions))\n",
        "\n",
        "    def __getitem__(self, idx):\n",
        "        # return (self.observations[index], self.actions[index])\n",
        "        normalized_observations = 2 * ((self.observations[idx] - self.observations.min()) / (self.observations.max() - self.observations.min())) - 1\n",
        "        # normalized_actions = 2 * ((self.actions[idx] - self.actions.min()) / (self.actions.max() - self.actions.min())) - 1\n",
        "        normalized_data = (normalized_observations, self.actions[idx])\n",
        "        return normalized_data\n",
        "\n",
        "\n",
        "    def __len__(self):\n",
        "        return len(self.observations)\n",
        "    \n",
        "    def preprocess_data(self, data, clip_value=1e38):\n",
        "        # Clip values to a maximum and minimum range\n",
        "        data = torch.clamp(data, min=-clip_value, max=clip_value)\n",
        "        \n",
        "        # Convert to float\n",
        "        return data.float()"
      ]
    },
    {
      "cell_type": "code",
      "execution_count": 12,
      "id": "11af5407",
      "metadata": {
        "colab": {
          "base_uri": "https://localhost:8080/"
        },
        "id": "11af5407",
        "outputId": "bc497a92-1701-4426-c1cd-4fb74f7545cb"
      },
      "outputs": [
        {
          "name": "stdout",
          "output_type": "stream",
          "text": [
            "Expert actions len: 8000\n",
            "Expert observations len: 8000\n"
          ]
        },
        {
          "name": "stdout",
          "output_type": "stream",
          "text": [
            "Discarded data\n",
            "Discarded form np: 0\n",
            "Discarded form torch: 0\n",
            "Shapes:\n",
            "torch.Size([36])\n",
            "torch.Size([196])\n"
          ]
        }
      ],
      "source": [
        "# Import data and build dataloader\n",
        "\n",
        "expert_observations = np.load(root_dir+'/data/expert-observations.npy', allow_pickle=True)\n",
        "expert_actions = np.load(root_dir+'/data/expert-actions.npy', allow_pickle=True)\n",
        "\n",
        "count_discarded_numpy = 0\n",
        "count_discarded = 0\n",
        "\n",
        "new_exp_action = expert_actions\n",
        "\n",
        "list_of_index_to_drop = []\n",
        "for i, a in enumerate(expert_actions):\n",
        "  if (a > 1e2).any() or (a > 1e2).any():\n",
        "  # if not np.isfinite(a).all(): \n",
        "    list_of_index_to_drop.append(i)\n",
        "    print(i)\n",
        "    print(a)\n",
        "    count_discarded_numpy+=1\n",
        "    # break\n",
        "\n",
        "\n",
        "print(\"Expert actions len: {}\".format(len(expert_actions)))\n",
        "print(\"Expert observations len: {}\".format(len(expert_observations)))\n",
        "\n",
        "expert_dataset = ExpertDataSet(expert_observations, expert_actions)\n",
        "\n",
        "\n",
        "\n",
        "for i in range(len(expert_dataset)):\n",
        "  a = expert_dataset.__getitem__(i)[1]\n",
        "  # print(a.max())\n",
        "  # print(a.min())\n",
        "  if (a > 1e2).any() or (a < -1e2).any() :\n",
        "  # if not torch.isfinite(a).any():\n",
        "    count_discarded += 1\n",
        "    print(a)\n",
        "\n",
        "\n",
        "print(\"Discarded data\")\n",
        "print(\"Discarded form np: {}\".format(count_discarded_numpy))\n",
        "print(\"Discarded form torch: {}\".format(count_discarded))\n",
        "\n",
        "#split in 80% training and 20%test\n",
        "batch_size = 64\n",
        "train_prop = 0.8\n",
        "train_size = int(train_prop * len(expert_dataset))\n",
        "test_size = len(expert_dataset) - train_size\n",
        "train_expert_dataset, test_expert_dataset = random_split(expert_dataset, [train_size, test_size])\n",
        "\n",
        "train_loader = torch.utils.data.DataLoader(  dataset=train_expert_dataset, batch_size=batch_size, shuffle=True)\n",
        "test_loader = torch.utils.data.DataLoader(  dataset=test_expert_dataset, batch_size=batch_size, shuffle=True)\n",
        "\n",
        "\n",
        "print(\"Shapes:\")\n",
        "print(train_loader.dataset.__getitem__(0)[1].shape)\n",
        "print(train_loader.dataset.__getitem__(0)[0].shape)\n",
        "\n"
      ]
    },
    {
      "cell_type": "markdown",
      "id": "cae4e82b",
      "metadata": {},
      "source": [
        "## Model"
      ]
    },
    {
      "cell_type": "code",
      "execution_count": 29,
      "id": "94873ce1",
      "metadata": {},
      "outputs": [],
      "source": [
        "# Policy Agent\n",
        "\n",
        "class BCAgent(nn.Module):\n",
        "\n",
        "  def __init__(self, obs_space, action_space) -> None:\n",
        "    super(BCAgent, self).__init__()\n",
        "\n",
        "    self.name = 'Behavioral-Cloning-Agent'\n",
        "    self.device = device\n",
        "\n",
        "    self.n_inputs = obs_space\n",
        "    self.n_outputs = action_space\n",
        "\n",
        "    # Policy Network\n",
        "    self.fc1 = nn.Linear(self.n_inputs,16)\n",
        "    self.bn1 = nn.BatchNorm1d(16)\n",
        "    self.relu = nn.ReLU()\n",
        "    self.fc2 = nn.Linear(16, self.n_outputs)\n",
        "\n",
        "  def forward(self, x):\n",
        "    out = self.fc1(x)\n",
        "    out = self.bn1(out)\n",
        "    out = self.relu(out)\n",
        "    out = self.fc2(out)\n",
        "    return out\n",
        "  \n",
        "  def load_parameters(self, src):\n",
        "    # if exists(dir+self.name.lower()+'.pt'): \n",
        "    if exists(src):\n",
        "        print(\"Loading model \"+self.name+\" state parameters\")\n",
        "        print(\"From :{}\".format(src))\n",
        "        self.load_state_dict(torch.load(src, map_location=self.device))\n",
        "        return self\n",
        "    else:\n",
        "        print(\"Error no model \"+self.name.lower()+\" found!\")\n",
        "        exit(1)\n"
      ]
    },
    {
      "cell_type": "markdown",
      "id": "36fd7301",
      "metadata": {},
      "source": [
        "## Training"
      ]
    },
    {
      "cell_type": "code",
      "execution_count": 30,
      "id": "09e78876",
      "metadata": {},
      "outputs": [],
      "source": [
        "# Train functions\n",
        "\n",
        "def train(\n",
        "        policy,\n",
        "        train_epochs,\n",
        "        eval_epochs,\n",
        "        train_loader, \n",
        "        test_loader,\n",
        "        optimizer,\n",
        "        loss_criterion,\n",
        "        scheduler,\n",
        "        thrashold\n",
        "    ):\n",
        "\n",
        "    policy.train()\n",
        "    policy.to(device)\n",
        "    \n",
        "    loss = 0\n",
        "    epoch_loss = 0\n",
        "    unused_val = 0\n",
        "\n",
        "    \n",
        "    with tqdm(total=train_epochs, leave=True) as pbar:\n",
        "        for epoch in range(train_epochs):\n",
        "        \n",
        "            for batch_idx, (data, target) in enumerate(train_loader):\n",
        "\n",
        "                obs, expert_action = data.to(device), target.to(device)\n",
        "                obs = obs.float()\n",
        "\n",
        "                optimizer.zero_grad()\n",
        "\n",
        "                student_action = policy(obs)\n",
        "                expert_action = expert_action.float()\n",
        "\n",
        "                loss = loss_criterion(student_action, expert_action)\n",
        "                # loss.register_hook(lambda grad: print(grad))\n",
        "                loss.backward()\n",
        "                # print(\"Loss: {}\".format(loss.item()))\n",
        "\n",
        "                if not loss.item() == torch.inf: \n",
        "                    epoch_loss += loss.item()\n",
        "                    optimizer.step()\n",
        "                    \n",
        "\n",
        "                else:\n",
        "                    unused_val += 1\n",
        "                    print(\"### BATCH {} ###\".format(batch_idx))\n",
        "                    print(f'obs -> {obs}')\n",
        "                    print(\"\\n______________________________________________________________________________\")\n",
        "                    print(f'expert_action -> {expert_action}')\n",
        "                    print(\"\\n______________________________________________________________________________\")\n",
        "                    print(f'student_action -> {student_action}')\n",
        "                    print(\"\\n______________________________________________________________________________\")\n",
        "                    return expert_action,student_action\n",
        "\n",
        "                res = print_gradients(policy)\n",
        "                \n",
        "                if torch.isnan(student_action).any(): \n",
        "                    print('e successo')\n",
        "                    break\n",
        "\n",
        "                if res == 1: \n",
        "                    print(\"\\n______________________________________________________________________________\")\n",
        "                    print(student_action.shape)\n",
        "                    for i, ea in enumerate(expert_action):\n",
        "                        if not np.isfinite(ea).all():\n",
        "                            print(i+64)\n",
        "                            print(f'expert_action -> {ea}')\n",
        "\n",
        "                    print(\"\\n______________________________________________________________________________\")\n",
        "                    print(f'Max expert_action -> {expert_action.max()}')\n",
        "                    print(f'Min expert_action -> {expert_action.min()}')\n",
        "                    print(f'Max student_action -> {student_action.max()}')\n",
        "                    print(f'Min student_action -> {student_action.min()}')\n",
        "                    break\n",
        "                \n",
        "            # deactivate scheduler\n",
        "            if epoch % 50 == 0 and epoch < thrashold :\n",
        "                scheduler.step()\n",
        "            \n",
        "            # compute accuracy\n",
        "            # print(\"Epoch {}\".format(epoch))\n",
        "            # print(\"Train Loss: {}\".format(epoch_loss/(batch_idx+1)))\n",
        "            # validation(test_loader,policy,loss_criterion,num_epochs=eval_epochs)\n",
        "            # print(\"Unused Loss: {}\".format(unused_val))\n",
        "            t_loss = epoch_loss/(batch_idx+1)\n",
        "            v_loss = validation(test_loader,policy,loss_criterion,num_epochs=eval_epochs)\n",
        "            epoch_loss = 0\n",
        "            unused_val = 0\n",
        "            pbar.set_postfix(train=t_loss, validation=v_loss)\n",
        "            pbar.update(1)\n",
        "            \n",
        "        \n",
        "        print(\"Train Loss: {}\".format(t_loss))\n",
        "        print(\"Validation Loss: {}\".format(v_loss))\n",
        "        print(\"###############################################################################\\n\")\n",
        "\n",
        "\n",
        "def validation(loader, policy,loss_criterion, num_epochs):\n",
        "    policy.eval()\n",
        "    epoch_loss = 0\n",
        "    for epoch in range(num_epochs):\n",
        "        for batch_idx, (data, target) in enumerate(loader):\n",
        "            obs, expert_action = data.to(device), target.to(device)\n",
        "            obs = obs.float()\n",
        "            student_action = policy(obs)\n",
        "            loss = loss_criterion(student_action, expert_action)\n",
        "            epoch_loss += loss.item()\n",
        "\n",
        "    return epoch_loss/(batch_idx+1)\n",
        "\n",
        "def print_gradients(policy):\n",
        "    for name, param in policy.named_parameters():\n",
        "        if param.requires_grad:\n",
        "            if torch.isnan(param.grad).any(): \n",
        "                return 1#break\n",
        "            # print(f\"Gradient of {name}: {param.grad}\")\n",
        "    return 0"
      ]
    },
    {
      "cell_type": "code",
      "execution_count": 31,
      "id": "1d8a59c8",
      "metadata": {},
      "outputs": [
        {
          "name": "stderr",
          "output_type": "stream",
          "text": [
            "100%|██████████| 20/20 [00:51<00:00,  2.58s/it, train=0.0051, validation=0.0233] "
          ]
        },
        {
          "name": "stdout",
          "output_type": "stream",
          "text": [
            "Train Loss: 0.005100689987884834\n",
            "Validation Loss: 0.02331682918826118\n",
            "###############################################################################\n",
            "\n"
          ]
        },
        {
          "name": "stderr",
          "output_type": "stream",
          "text": [
            "\n"
          ]
        }
      ],
      "source": [
        "# Train module\n",
        "\n",
        "obs_space = train_loader.dataset.__getitem__(0)[0].shape[0]\n",
        "action_space = train_loader.dataset.__getitem__(0)[1].shape[0]\n",
        "policy = BCAgent(obs_space, action_space)\n",
        "loss_criterion = nn.MSELoss()\n",
        "# Create a learning rate scheduler\n",
        "step_size = 50\n",
        "gamma = 0.1\n",
        "# scheduler = \n",
        "optimizer =  optim.Adam(policy.parameters(), lr=1e-2)\n",
        "scheduler = lr_scheduler.StepLR(optimizer, step_size=step_size, gamma=gamma)\n",
        "eval_epochs = 5\n",
        "\n",
        "train(policy, \n",
        "      train_epochs=20, \n",
        "      eval_epochs=5, \n",
        "      train_loader=train_loader, \n",
        "      test_loader=test_loader,\n",
        "      optimizer=optimizer,\n",
        "      loss_criterion=loss_criterion,\n",
        "      scheduler=scheduler,\n",
        "      thrashold = 100\n",
        "    )"
      ]
    },
    {
      "cell_type": "markdown",
      "id": "75da1acc",
      "metadata": {},
      "source": [
        "## Saving"
      ]
    },
    {
      "cell_type": "code",
      "execution_count": 32,
      "id": "82745485",
      "metadata": {},
      "outputs": [],
      "source": [
        "# Save model\n",
        "\n",
        "dest = root_dir+'/checkpoints/'\n",
        "save_name = policy.name.lower()+'.pt'\n",
        "\n",
        "if not exists(dest): \n",
        "  mkdir(dest)\n",
        "\n",
        "else: \n",
        "    if exists(dest+save_name):\n",
        "        rename(dest+save_name, dest+save_name+'.bk')\n",
        "\n",
        "torch.save(policy.state_dict(), dest+save_name)\n",
        "\n",
        "#qui finisce "
      ]
    },
    {
      "cell_type": "code",
      "execution_count": 33,
      "id": "846969ee",
      "metadata": {},
      "outputs": [
        {
          "name": "stdout",
          "output_type": "stream",
          "text": [
            "cuda\n"
          ]
        }
      ],
      "source": [
        "print(policy.device)"
      ]
    },
    {
      "cell_type": "code",
      "execution_count": 36,
      "id": "a1c18b04",
      "metadata": {},
      "outputs": [
        {
          "name": "stdout",
          "output_type": "stream",
          "text": [
            "real action: tensor([0., 0., 0., 0., 0., 0., 0., 0., 0., 0., 0., 0., 0., 0., 0., 0., 0., 0., 0., 0., 0., 0., 0., 0.,\n",
            "        0., 0., 0., 0., 0., 0., 0., 0., 0., 0., 0., 0.])\n",
            "our action: [-0.00348195  0.00419287 -0.00257483  0.00043887  0.00120174 -0.00855614\n",
            "  0.00243651 -0.00230825  0.00232608  0.00091796 -0.00292316  0.00018568\n",
            "  0.00852696  0.0067345   0.00056387 -0.00586368  0.00131345  0.00893152\n",
            "  0.00015079  0.00402855 -0.00314843 -0.00057269 -0.00933423  0.00017852\n",
            "  0.00105132 -0.00175206 -0.01157005 -0.00417152  0.0014846   0.00283458\n",
            "  0.0029884  -0.00030958  0.00520914  0.00751644  0.00582008 -0.00287467]\n",
            "real action: tensor([-0.7530,  0.0591, -0.0638,  0.4054, -0.3077,  0.2075,  0.0923,  0.5357,\n",
            "         1.3419, -0.3775,  0.1903,  0.6258, -2.6502, -0.4104, -0.0113, -0.1208,\n",
            "         0.0889,  0.8460, -0.2452, -0.2553,  0.0944,  0.7016,  1.6317,  0.2099,\n",
            "         0.1358,  0.3904, -3.0713,  0.0482, -0.1579,  0.0431,  0.6645,  0.1123,\n",
            "         0.3630, -0.0584,  0.1462,  1.2696])\n",
            "our action: [-0.8012406   0.01511532 -0.06590917  0.4175666  -0.404617    0.12988374\n",
            "  0.14380978  0.6097778   1.4650706  -0.28878763  0.09746633  0.7388556\n",
            " -2.5089467   0.0462615  -0.03079884 -0.05245304  0.11216401  0.9946123\n",
            " -0.27467892 -0.1417765   0.07271394  1.1426791   1.8268727   0.22042671\n",
            "  0.13792142  0.39444414 -3.1216648   0.18165705 -0.09220846  0.12880783\n",
            "  0.6495096   0.31455183  0.3389184   0.01886572  0.26982486  1.3636444 ]\n",
            "real action: tensor([-0.5518, -0.1281, -0.0151,  0.7152,  0.4129,  0.5563, -0.0333,  0.6753,\n",
            "         3.3432, -0.0096, -0.1531,  0.9758, -0.8951, -0.7328,  0.0218, -0.1166,\n",
            "         0.4203,  0.6698, -0.2066,  0.3735,  0.0949, -0.0157,  2.9594, -0.0197,\n",
            "         0.0788,  0.7244, -1.0186, -0.9158, -0.0498,  0.3980,  0.4729,  1.1842,\n",
            "         0.3053, -0.5423,  0.3217,  1.2972])\n",
            "our action: [-0.46545017 -0.20624973  0.09028172  0.7267989  -0.04258039  0.47310257\n",
            " -0.02184722  0.78104186  4.1597652  -0.10249523 -0.01449404  1.1780627\n",
            " -1.1572791  -0.6478562   0.138743   -0.15491973  0.4035002   1.3326379\n",
            " -0.26166058  0.16055301 -0.0162935   0.36239743  4.233769   -0.10182183\n",
            "  0.08997241  0.9318676  -1.5012034  -0.45128134 -0.09634738  0.35878038\n",
            "  0.44357365  1.8993415   0.30981854 -0.44518557  0.21892485  0.7903768 ]\n",
            "real action: tensor([0., 0., 0., 0., 0., 0., 0., 0., 0., 0., 0., 0., 0., 0., 0., 0., 0., 0., 0., 0., 0., 0., 0., 0.,\n",
            "        0., 0., 0., 0., 0., 0., 0., 0., 0., 0., 0., 0.])\n",
            "our action: [-0.00348195  0.00419287 -0.00257483  0.00043887  0.00120174 -0.00855614\n",
            "  0.00243651 -0.00230825  0.00232608  0.00091796 -0.00292316  0.00018568\n",
            "  0.00852696  0.0067345   0.00056387 -0.00586368  0.00131345  0.00893152\n",
            "  0.00015079  0.00402855 -0.00314843 -0.00057269 -0.00933423  0.00017852\n",
            "  0.00105132 -0.00175206 -0.01157005 -0.00417152  0.0014846   0.00283458\n",
            "  0.0029884  -0.00030958  0.00520914  0.00751644  0.00582008 -0.00287467]\n",
            "real action: tensor([0., 0., 0., 0., 0., 0., 0., 0., 0., 0., 0., 0., 0., 0., 0., 0., 0., 0., 0., 0., 0., 0., 0., 0.,\n",
            "        0., 0., 0., 0., 0., 0., 0., 0., 0., 0., 0., 0.])\n",
            "our action: [-0.00348195  0.00419287 -0.00257483  0.00043887  0.00120174 -0.00855614\n",
            "  0.00243651 -0.00230825  0.00232608  0.00091796 -0.00292316  0.00018568\n",
            "  0.00852696  0.0067345   0.00056387 -0.00586368  0.00131345  0.00893152\n",
            "  0.00015079  0.00402855 -0.00314843 -0.00057269 -0.00933423  0.00017852\n",
            "  0.00105132 -0.00175206 -0.01157005 -0.00417152  0.0014846   0.00283458\n",
            "  0.0029884  -0.00030958  0.00520914  0.00751644  0.00582008 -0.00287467]\n",
            "real action: tensor([0., 0., 0., 0., 0., 0., 0., 0., 0., 0., 0., 0., 0., 0., 0., 0., 0., 0., 0., 0., 0., 0., 0., 0.,\n",
            "        0., 0., 0., 0., 0., 0., 0., 0., 0., 0., 0., 0.])\n",
            "our action: [-0.00348195  0.00419287 -0.00257483  0.00043887  0.00120174 -0.00855614\n",
            "  0.00243651 -0.00230825  0.00232608  0.00091796 -0.00292316  0.00018568\n",
            "  0.00852696  0.0067345   0.00056387 -0.00586368  0.00131345  0.00893152\n",
            "  0.00015079  0.00402855 -0.00314843 -0.00057269 -0.00933423  0.00017852\n",
            "  0.00105132 -0.00175206 -0.01157005 -0.00417152  0.0014846   0.00283458\n",
            "  0.0029884  -0.00030958  0.00520914  0.00751644  0.00582008 -0.00287467]\n",
            "real action: tensor([0., 0., 0., 0., 0., 0., 0., 0., 0., 0., 0., 0., 0., 0., 0., 0., 0., 0., 0., 0., 0., 0., 0., 0.,\n",
            "        0., 0., 0., 0., 0., 0., 0., 0., 0., 0., 0., 0.])\n",
            "our action: [-0.00348195  0.00419287 -0.00257483  0.00043887  0.00120174 -0.00855614\n",
            "  0.00243651 -0.00230825  0.00232608  0.00091796 -0.00292316  0.00018568\n",
            "  0.00852696  0.0067345   0.00056387 -0.00586368  0.00131345  0.00893152\n",
            "  0.00015079  0.00402855 -0.00314843 -0.00057269 -0.00933423  0.00017852\n",
            "  0.00105132 -0.00175206 -0.01157005 -0.00417152  0.0014846   0.00283458\n",
            "  0.0029884  -0.00030958  0.00520914  0.00751644  0.00582008 -0.00287467]\n",
            "real action: tensor([0., 0., 0., 0., 0., 0., 0., 0., 0., 0., 0., 0., 0., 0., 0., 0., 0., 0., 0., 0., 0., 0., 0., 0.,\n",
            "        0., 0., 0., 0., 0., 0., 0., 0., 0., 0., 0., 0.])\n",
            "our action: [-0.00348195  0.00419287 -0.00257483  0.00043887  0.00120174 -0.00855614\n",
            "  0.00243651 -0.00230825  0.00232608  0.00091796 -0.00292316  0.00018568\n",
            "  0.00852696  0.0067345   0.00056387 -0.00586368  0.00131345  0.00893152\n",
            "  0.00015079  0.00402855 -0.00314843 -0.00057269 -0.00933423  0.00017852\n",
            "  0.00105132 -0.00175206 -0.01157005 -0.00417152  0.0014846   0.00283458\n",
            "  0.0029884  -0.00030958  0.00520914  0.00751644  0.00582008 -0.00287467]\n",
            "real action: tensor([0., 0., 0., 0., 0., 0., 0., 0., 0., 0., 0., 0., 0., 0., 0., 0., 0., 0., 0., 0., 0., 0., 0., 0.,\n",
            "        0., 0., 0., 0., 0., 0., 0., 0., 0., 0., 0., 0.])\n",
            "our action: [-0.00348195  0.00419287 -0.00257483  0.00043887  0.00120174 -0.00855614\n",
            "  0.00243651 -0.00230825  0.00232608  0.00091796 -0.00292316  0.00018568\n",
            "  0.00852696  0.0067345   0.00056387 -0.00586368  0.00131345  0.00893152\n",
            "  0.00015079  0.00402855 -0.00314843 -0.00057269 -0.00933423  0.00017852\n",
            "  0.00105132 -0.00175206 -0.01157005 -0.00417152  0.0014846   0.00283458\n",
            "  0.0029884  -0.00030958  0.00520914  0.00751644  0.00582008 -0.00287467]\n",
            "real action: tensor([0., 0., 0., 0., 0., 0., 0., 0., 0., 0., 0., 0., 0., 0., 0., 0., 0., 0., 0., 0., 0., 0., 0., 0.,\n",
            "        0., 0., 0., 0., 0., 0., 0., 0., 0., 0., 0., 0.])\n",
            "our action: [-0.00348195  0.00419287 -0.00257483  0.00043887  0.00120174 -0.00855614\n",
            "  0.00243651 -0.00230825  0.00232608  0.00091796 -0.00292316  0.00018568\n",
            "  0.00852696  0.0067345   0.00056387 -0.00586368  0.00131345  0.00893152\n",
            "  0.00015079  0.00402855 -0.00314843 -0.00057269 -0.00933423  0.00017852\n",
            "  0.00105132 -0.00175206 -0.01157005 -0.00417152  0.0014846   0.00283458\n",
            "  0.0029884  -0.00030958  0.00520914  0.00751644  0.00582008 -0.00287467]\n"
          ]
        }
      ],
      "source": [
        "for i in range(100,110):\n",
        "  obs, action  = train_loader.dataset.__getitem__(i)\n",
        "\n",
        "  print(f'real action: {action}')\n",
        "\n",
        "  obs = obs.float().unsqueeze(0).to(device)\n",
        "\n",
        "  our_action = policy(obs).squeeze().detach().cpu().numpy()\n",
        "\n",
        "  print(f'our action: {our_action}')"
      ]
    },
    {
      "cell_type": "markdown",
      "id": "5cc5191c",
      "metadata": {},
      "source": [
        "# Loading "
      ]
    },
    {
      "cell_type": "code",
      "execution_count": 37,
      "id": "57b3ac73",
      "metadata": {},
      "outputs": [
        {
          "name": "stdout",
          "output_type": "stream",
          "text": [
            "Loading model Behavioral-Cloning-Agent state parameters\n",
            "From :/home/bitfra/Desktop/Francesco/rl_project/acrobatic-agents/checkpoints/behavioral-cloning-agent.pt\n",
            "/home/bitfra/Desktop/Francesco/rl_project/acrobatic-agents/checkpoints/behavioral-cloning-agent.pt\n"
          ]
        }
      ],
      "source": [
        "src = root_dir+'/checkpoints/'+policy.name.lower()+'.pt'\n",
        "policy.load_parameters(src)\n",
        "print(root_dir+'/checkpoints/'+policy.name.lower()+'.pt')"
      ]
    }
  ],
  "metadata": {
    "colab": {
      "provenance": []
    },
    "kernelspec": {
      "display_name": "Python 3 (ipykernel)",
      "language": "python",
      "name": "python3"
    },
    "language_info": {
      "codemirror_mode": {
        "name": "ipython",
        "version": 3
      },
      "file_extension": ".py",
      "mimetype": "text/x-python",
      "name": "python",
      "nbconvert_exporter": "python",
      "pygments_lexer": "ipython3",
      "version": "3.7.12"
    }
  },
  "nbformat": 4,
  "nbformat_minor": 5
}
